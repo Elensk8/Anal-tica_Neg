{
  "nbformat": 4,
  "nbformat_minor": 0,
  "metadata": {
    "colab": {
      "provenance": [],
      "authorship_tag": "ABX9TyOxI8yJU/snp/6lILQt+8/z",
      "include_colab_link": true
    },
    "kernelspec": {
      "name": "python3",
      "display_name": "Python 3"
    },
    "language_info": {
      "name": "python"
    }
  },
  "cells": [
    {
      "cell_type": "markdown",
      "metadata": {
        "id": "view-in-github",
        "colab_type": "text"
      },
      "source": [
        "<a href=\"https://colab.research.google.com/github/Elensk8/Anal-tica_Neg/blob/main/Reto2.ipynb\" target=\"_parent\"><img src=\"https://colab.research.google.com/assets/colab-badge.svg\" alt=\"Open In Colab\"/></a>"
      ]
    },
    {
      "cell_type": "markdown",
      "source": [
        "0. Cargar librerías"
      ],
      "metadata": {
        "id": "hr7OaNOpkkTk"
      }
    },
    {
      "cell_type": "code",
      "source": [
        "import numpy as np\n",
        "import pandas as pd\n",
        "\n",
        "#Para implementación del modelo\n",
        "from sklearn.tree import DecisionTreeClassifier\n",
        "from sklearn.metrics import confusion_matrix\n",
        "\n",
        "from sklearn.preprocessing import LabelEncoder"
      ],
      "metadata": {
        "id": "IG29QQxqjkq0"
      },
      "execution_count": null,
      "outputs": []
    },
    {
      "cell_type": "markdown",
      "source": [
        "1. Cargar base de datos"
      ],
      "metadata": {
        "id": "1E0Pa8fmkKPF"
      }
    },
    {
      "cell_type": "code",
      "source": [
        "nxl = '/content/2. TechSalesReport_Int_L.xlsx'\n",
        "XDB = pd.read_excel(nxl,sheet_name=0)\n"
      ],
      "metadata": {
        "id": "Bq9qk6Gwonyl"
      },
      "execution_count": null,
      "outputs": []
    },
    {
      "cell_type": "markdown",
      "source": [
        "2. Llamar solo las variables que necesito"
      ],
      "metadata": {
        "id": "kpBoa5_SqWbP"
      }
    },
    {
      "cell_type": "code",
      "source": [
        "df2 = XDB[['Business', 'Age', 'Female', 'Years','Certificates', 'Feedback','Salary','NPS','College']]"
      ],
      "metadata": {
        "id": "KABZfhpDqJ7M"
      },
      "execution_count": null,
      "outputs": []
    },
    {
      "cell_type": "markdown",
      "source": [
        "3. Hacer que las variables Business y College sean numéricas"
      ],
      "metadata": {
        "id": "puThvs01nnOt"
      }
    },
    {
      "cell_type": "code",
      "source": [
        "df2['Business'] = df2['Business'].map({'Hardware': 0, 'Software': 1})\n",
        "df2['College'] = df2['College'].map({'Yes': 1, 'No': 0})"
      ],
      "metadata": {
        "colab": {
          "base_uri": "https://localhost:8080/"
        },
        "id": "3SR1tGnYp04x",
        "outputId": "690014e1-a44d-4723-d359-f2e5741998dc"
      },
      "execution_count": null,
      "outputs": [
        {
          "output_type": "stream",
          "name": "stderr",
          "text": [
            "<ipython-input-23-2fda56836961>:1: SettingWithCopyWarning: \n",
            "A value is trying to be set on a copy of a slice from a DataFrame.\n",
            "Try using .loc[row_indexer,col_indexer] = value instead\n",
            "\n",
            "See the caveats in the documentation: https://pandas.pydata.org/pandas-docs/stable/user_guide/indexing.html#returning-a-view-versus-a-copy\n",
            "  df2['Business'] = df2['Business'].map({'Hardware': 0, 'Software': 1})\n",
            "<ipython-input-23-2fda56836961>:2: SettingWithCopyWarning: \n",
            "A value is trying to be set on a copy of a slice from a DataFrame.\n",
            "Try using .loc[row_indexer,col_indexer] = value instead\n",
            "\n",
            "See the caveats in the documentation: https://pandas.pydata.org/pandas-docs/stable/user_guide/indexing.html#returning-a-view-versus-a-copy\n",
            "  df2['College'] = df2['College'].map({'Yes': 1, 'No': 0})\n"
          ]
        }
      ]
    },
    {
      "cell_type": "markdown",
      "source": [
        "4. Cargar las entradas y salida"
      ],
      "metadata": {
        "id": "qK9LvihPq7MU"
      }
    },
    {
      "cell_type": "code",
      "source": [
        "#Seleccionamos las variables\n",
        "XD=df2[['Business','Age','Female','Years','Certificates','Feedback','Salary','NPS']]\n",
        "yd=df2[['College']]"
      ],
      "metadata": {
        "id": "b_hQn5XCkPYt"
      },
      "execution_count": null,
      "outputs": []
    },
    {
      "cell_type": "markdown",
      "source": [
        "5. Se procede con la implementación del modelo\n",
        "\n",
        "*Max Depth es el número de variables disponibles\n",
        "\n",
        "*Gini es el criterio que indica el grado de error en el modelo"
      ],
      "metadata": {
        "id": "tgWa3z6WmTfS"
      }
    },
    {
      "cell_type": "code",
      "source": [
        "mar=DecisionTreeClassifier(criterion='gini',max_depth=4)\n",
        "\n",
        "mar.fit(XD,yd)\n",
        "\n",
        "#Se procede con el despliegue del árbol de decisión\n",
        "\n",
        "from sklearn.tree import export_graphviz #Exportar\n",
        "from pydotplus import graph_from_dot_data #Crear el gráfico\n",
        "\n",
        "vs=['Business','Age','Female','Years','Certificates','Feedback','Salary','NPS']\n",
        "dot_data=export_graphviz(mar,feature_names=vs)\n",
        "graph=graph_from_dot_data(dot_data)\n",
        "graph.write_png('1.TechSalesReport.png')\n",
        "\n"
      ],
      "metadata": {
        "colab": {
          "base_uri": "https://localhost:8080/"
        },
        "id": "xRIE5wmwmYJb",
        "outputId": "cf1af13f-576b-4aab-e228-8bf6387d3820"
      },
      "execution_count": null,
      "outputs": [
        {
          "output_type": "execute_result",
          "data": {
            "text/plain": [
              "True"
            ]
          },
          "metadata": {},
          "execution_count": 25
        }
      ]
    },
    {
      "cell_type": "markdown",
      "source": [
        "6. Matriz de confusión"
      ],
      "metadata": {
        "id": "whQaGe2qjglj"
      }
    },
    {
      "cell_type": "code",
      "source": [
        "ydp=mar.predict(XD)\n",
        "cm=confusion_matrix(yd,ydp)\n",
        "print(cm)\n",
        "\n",
        "VN=cm[0,0]; FP=cm[0,1]; FN=cm[1,0]; VP=cm[1,1]\n",
        "\n",
        "\n",
        "# Total de datos\n",
        "total_datos = np.sum(cm)\n",
        "print(\"Total de datos:\", total_datos)\n",
        "\n",
        "# Datos clasificados como 'College' (positivos)\n",
        "total_college = VP + FN\n",
        "print(\"Cantidad que fueron a College:\", total_college)\n",
        "\n",
        "# Datos clasificados como 'No College' (negativos)\n",
        "total_no_college = VN + FP\n",
        "print(\"Cantidad que no fueron a College:\", total_no_college)\n",
        "\n",
        "Exactitud=(VP+VN)/(VP+VN+FP+FN) #Funcionamiento general del modelo\n",
        "print('La exactitud:\\n',Exactitud)\n",
        "Sensibilidad=VP/(VP+FN) #Cómo se comporto el modelo con los Aprobados\n",
        "print('La sensibilidad:\\n',Sensibilidad)\n",
        "Especificidad=VN/(VN+FP) #Cómo se comporto el modelo con los Negados\n",
        "print('La especificidad:\\n',Especificidad)\n",
        "Precisión=VP/(VP+FP) #Cuál es el acierto clasificando los positivos\n",
        "print('La precisión:\\n',Precisión)\n",
        "TasadeError=(FP+FN)/(VP+VN+FP+FN) #Equivocación general del modelo\n",
        "print('La tasa de Error:\\n',TasadeError)\n",
        "Predneg=VN/(VN+FN) #Como funciona el modelo negando créditos\n",
        "print('La tasa de predicción nengativa es:\\n',Predneg)"
      ],
      "metadata": {
        "colab": {
          "base_uri": "https://localhost:8080/"
        },
        "id": "trr0HNNIwZLk",
        "outputId": "642994e3-0fa6-44ed-9676-9f35a2595099"
      },
      "execution_count": null,
      "outputs": [
        {
          "output_type": "stream",
          "name": "stdout",
          "text": [
            "[[  114  4356]\n",
            " [   69 17451]]\n",
            "Total de datos: 21990\n",
            "Cantidad que fueron a College: 17520\n",
            "Cantidad que no fueron a College: 4470\n",
            "La exactitud:\n",
            " 0.7987721691678036\n",
            "La sensibilidad:\n",
            " 0.9960616438356165\n",
            "La especificidad:\n",
            " 0.025503355704697986\n",
            "La precisión:\n",
            " 0.8002476269087908\n",
            "La tasa de Error:\n",
            " 0.20122783083219645\n",
            "La tasa de predicción nengativa es:\n",
            " 0.6229508196721312\n"
          ]
        }
      ]
    },
    {
      "cell_type": "markdown",
      "source": [
        "7. Pronóstico"
      ],
      "metadata": {
        "id": "KKSlPKD_B7jR"
      }
    },
    {
      "cell_type": "code",
      "source": [
        "# Leer el archivo Excel\n",
        "XDB2 = pd.read_excel(nxl, sheet_name=1)\n",
        "\n",
        "# Convertir variables categóricas a numéricas\n",
        "XDB2['Business'] = XDB2['Business'].map({'Hardware': 0, 'Software': 1})\n",
        "XDB2['College'] = XDB2['College'].map({'Yes': 1, 'No': 0})\n",
        "\n",
        "# Definir las variables predictoras\n",
        "XD2 = XDB2[['Business', 'Age', 'Female', 'Years', 'Certificates', 'Feedback', 'Salary', 'NPS']]\n",
        "\n",
        "# Hacer predicciones\n",
        "ydp2 = mar.predict(XD2)\n",
        "print(\"Las predicciones son: \\n\", ydp2)\n",
        "\n",
        "# Crear el informe con los resultados\n",
        "dfp = XDB2[['Business', 'Age', 'Female', 'Years', 'Certificates', 'Feedback', 'Salary', 'NPS']].copy()\n",
        "dfp['College_Predicted'] = ydp2  # Agregar la predicción\n",
        "dfp.insert(0, 'Index', XDB2.index)  # Agregar el índice original\n",
        "\n",
        "# Guardar en Excel\n",
        "dfp.to_excel('/content/2. TechSalesReport_Int_L.xlsx', index=False)\n",
        "\n",
        "# Mostrar conteo de predicciones\n",
        "print(\"Los negados pronosticados son:\\n\", len(np.where(ydp2 == 0)[0]))\n",
        "print(\"Los aprobados pronosticados son:\\n\", len(np.where(ydp2 == 1)[0]))"
      ],
      "metadata": {
        "colab": {
          "base_uri": "https://localhost:8080/"
        },
        "id": "Ei1es1TAnhqQ",
        "outputId": "9d7a6cef-f9cd-46a2-8151-0f534a4d26d4"
      },
      "execution_count": null,
      "outputs": [
        {
          "output_type": "stream",
          "name": "stdout",
          "text": [
            "Las predicciones son: \n",
            " [1 1 1 1 1 1 1 1 1 1 1 1 1 1 1 1]\n",
            "Los negados pronosticados son:\n",
            " 0\n",
            "Los aprobados pronosticados son:\n",
            " 16\n"
          ]
        }
      ]
    },
    {
      "cell_type": "markdown",
      "source": [
        "Análisis:\n",
        "Por medio de la base de datos de Tech Sales Report, se busca de definir a través de un modelo de árbol de decisión,si los empleados poseen o no un título universitario (College) (nuestra variable de salida), en base a ciertas variables de salida, y cuáles son las más relevantes de ellas para pronosticar si estudio College o no el trabajador. Para esto, se utilizaron variables como: Business (si se dedicaban al hardware o al software), Age (edad del representante de ventas) y Female (para identificar si es hombre o mujer) que son dos variables no congitivas las cuáles querían implementar y analizar que relacion tenían, Years, Certificates (número de certificados que tienen), Feedback (puntajes), Salary que es visto como indicador de éxito laboral y NPS.\n",
        "Se estudiaron en total 21990 datos, de los cuales 17520 si estudiaron en College y 4470 no. Adicionalmente, para formular el árbol se tomáron 4 niveles de los cuales ningúno puede ser considerado nodo puro en base a la estructura del modelo.\n",
        "\n",
        "Por otro lado, se hico un pronóstico de aquellos Sales_Rep que no tenían información sobre el estudio de College de algunos de los trabajadores, y en base a los resultados, podemos decir que los 16 trabajadores que se analizaron, en base a los resultados del modelo es posible concluir que todos fueron a College, la cuestión es que hay un alto nivel de predominancia en la cantidad de datos de trabajadores que van a College (17520 de 21990), lo que hace que la especificidad del modelo sea bastante baja (0.025).\n",
        "\n",
        "Por último, en la evaluación de las métricas del desempeño del modelo nos encontramos con lo sigiente: la exactitud del modelo es cercana al 80%, la especificidad es del 025%, muy bajita como ya se menciono anteriormente, la sensibilidad del 99%, la precisión del 80%, la tasa de error del 20% y la tasa de predicción negativa de más del 62%. Los verdaderos negativos son 114, mientras que los verdaderos positivos son 17451, los falsos positivos 4356, y los falsos negativos fueron apenas 69. Con esto podemos concluir que el modelo funciono bastante bien, sin embargo, si se quisiera mejorar un poco, especialmente para aumentar el porcentaje de especificidad, se debería de sacar una población aleatoria menor de los 17520 datos de trabajadores que fueron a College.\n",
        "\n",
        "(Para revisar el resultado del pronóstico, abrir el excel anexo, el cual contiene a la columna de College con los trabajadores que fueron (1))."
      ],
      "metadata": {
        "id": "vqflBBiOJkzY"
      }
    }
  ]
}