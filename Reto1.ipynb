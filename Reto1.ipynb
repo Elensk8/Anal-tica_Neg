{
  "nbformat": 4,
  "nbformat_minor": 0,
  "metadata": {
    "colab": {
      "provenance": [],
      "authorship_tag": "ABX9TyOvdz6kEWBiP0kkJkNr3mFV",
      "include_colab_link": true
    },
    "kernelspec": {
      "name": "python3",
      "display_name": "Python 3"
    },
    "language_info": {
      "name": "python"
    }
  },
  "cells": [
    {
      "cell_type": "markdown",
      "metadata": {
        "id": "view-in-github",
        "colab_type": "text"
      },
      "source": [
        "<a href=\"https://colab.research.google.com/github/Elensk8/Anal-tica_Neg/blob/main/Reto1.ipynb\" target=\"_parent\"><img src=\"https://colab.research.google.com/assets/colab-badge.svg\" alt=\"Open In Colab\"/></a>"
      ]
    },
    {
      "cell_type": "markdown",
      "source": [
        "0. Cargar librerias de trabajo"
      ],
      "metadata": {
        "id": "zs1pRw2WiOyp"
      }
    },
    {
      "cell_type": "code",
      "execution_count": null,
      "metadata": {
        "id": "kpYY7q75g_-9"
      },
      "outputs": [],
      "source": [
        "import numpy as np #Funciones numéricas para la transformación y análisis de datos\n",
        "import pandas as pd\n",
        "from sklearn.preprocessing import LabelEncoder\n"
      ]
    },
    {
      "cell_type": "markdown",
      "source": [
        "1. Procedo con la carga de la base de datos."
      ],
      "metadata": {
        "id": "sVlbEBtGidio"
      }
    },
    {
      "cell_type": "code",
      "source": [
        "BD= '/content/1. BD2_CarCrash_Int.xlsx'\n",
        "BD=pd.read_excel(BD)\n"
      ],
      "metadata": {
        "id": "lKTODlaVim7v"
      },
      "execution_count": null,
      "outputs": []
    },
    {
      "cell_type": "markdown",
      "source": [
        "2. Tranformar variable CrashType a valores numéricos"
      ],
      "metadata": {
        "id": "LE3-081oKeRA"
      }
    },
    {
      "cell_type": "code",
      "source": [
        "from sklearn.preprocessing import LabelEncoder\n",
        "\n",
        "# Crear el objeto LabelEncoder\n",
        "label_encoder = LabelEncoder()\n",
        "\n",
        "# Aplicar la transformación y asignarla a la columna original o a una nueva\n",
        "BD['CrashType_encoded'] = label_encoder.fit_transform(BD['CrashType'])\n",
        "\n",
        "print(BD)"
      ],
      "metadata": {
        "colab": {
          "base_uri": "https://localhost:8080/"
        },
        "id": "GJzaq1TkKf_u",
        "outputId": "88f930c6-a21b-44c0-fcdc-7748150ede1a"
      },
      "execution_count": null,
      "outputs": [
        {
          "output_type": "stream",
          "name": "stdout",
          "text": [
            "            ID      County            City  Weekday  Severity  ViolCat  \\\n",
            "0            1   SAN DIEGO       SAN DIEGO        7         1        8   \n",
            "1            2    HUMBOLDT  UNINCORPORATED        4         1        8   \n",
            "2            3     VENTURA          OXNARD        2         1       12   \n",
            "3            4  STANISLAUS  UNINCORPORATED        4         1        1   \n",
            "4            5   MENDOCINO  UNINCORPORATED        5         1        1   \n",
            "...        ...         ...             ...      ...       ...      ...   \n",
            "112655  112656      SHASTA         REDDING        1         0       11   \n",
            "112656  112657      SHASTA         REDDING        6         1       11   \n",
            "112657  112658      SHASTA         REDDING        5         0       11   \n",
            "112658  112659      SHASTA         REDDING        3         0       11   \n",
            "112659  112660      SHASTA         REDDING        5         1       11   \n",
            "\n",
            "        ClearWeather  Month CrashType  Highway  Daylight  CrashType_encoded  \n",
            "0                  0      1         A        0         1                  0  \n",
            "1                  1      1         A        1         0                  0  \n",
            "2                  1      2         A        0         1                  0  \n",
            "3                  1      1         A        0         0                  0  \n",
            "4                  1      1         A        1         0                  0  \n",
            "...              ...    ...       ...      ...       ...                ...  \n",
            "112655             1      3         G        0         1                  6  \n",
            "112656             1      2         G        0         0                  6  \n",
            "112657             1      5         G        0         1                  6  \n",
            "112658             1      7         G        0         1                  6  \n",
            "112659             1      8         G        1         0                  6  \n",
            "\n",
            "[112660 rows x 12 columns]\n"
          ]
        }
      ]
    },
    {
      "cell_type": "markdown",
      "source": [
        "3. Remplazar la columna CrashType por CrashType_encoded"
      ],
      "metadata": {
        "id": "LXs8VEzULgsg"
      }
    },
    {
      "cell_type": "code",
      "source": [
        "BD['CrashType'] = label_encoder.fit_transform(BD['CrashType'])\n",
        "print(BD)"
      ],
      "metadata": {
        "colab": {
          "base_uri": "https://localhost:8080/"
        },
        "id": "Hxjo18byLubx",
        "outputId": "59e8f862-ff56-46bc-cb8c-47764c3f2160"
      },
      "execution_count": null,
      "outputs": [
        {
          "output_type": "stream",
          "name": "stdout",
          "text": [
            "            ID      County            City  Weekday  Severity  ViolCat  \\\n",
            "0            1   SAN DIEGO       SAN DIEGO        7         1        8   \n",
            "1            2    HUMBOLDT  UNINCORPORATED        4         1        8   \n",
            "2            3     VENTURA          OXNARD        2         1       12   \n",
            "3            4  STANISLAUS  UNINCORPORATED        4         1        1   \n",
            "4            5   MENDOCINO  UNINCORPORATED        5         1        1   \n",
            "...        ...         ...             ...      ...       ...      ...   \n",
            "112655  112656      SHASTA         REDDING        1         0       11   \n",
            "112656  112657      SHASTA         REDDING        6         1       11   \n",
            "112657  112658      SHASTA         REDDING        5         0       11   \n",
            "112658  112659      SHASTA         REDDING        3         0       11   \n",
            "112659  112660      SHASTA         REDDING        5         1       11   \n",
            "\n",
            "        ClearWeather  Month  CrashType  Highway  Daylight  CrashType_encoded  \n",
            "0                  0      1          0        0         1                  0  \n",
            "1                  1      1          0        1         0                  0  \n",
            "2                  1      2          0        0         1                  0  \n",
            "3                  1      1          0        0         0                  0  \n",
            "4                  1      1          0        1         0                  0  \n",
            "...              ...    ...        ...      ...       ...                ...  \n",
            "112655             1      3          6        0         1                  6  \n",
            "112656             1      2          6        0         0                  6  \n",
            "112657             1      5          6        0         1                  6  \n",
            "112658             1      7          6        0         1                  6  \n",
            "112659             1      8          6        1         0                  6  \n",
            "\n",
            "[112660 rows x 12 columns]\n"
          ]
        }
      ]
    },
    {
      "cell_type": "code",
      "source": [
        "BD.drop(columns=['CrashType_encoded'], inplace=True)\n",
        "print(BD)"
      ],
      "metadata": {
        "colab": {
          "base_uri": "https://localhost:8080/"
        },
        "id": "TL57EKEeMn9Y",
        "outputId": "2da667ec-9183-40c5-9d05-5a53a4ec1ec3"
      },
      "execution_count": null,
      "outputs": [
        {
          "output_type": "stream",
          "name": "stdout",
          "text": [
            "            ID      County            City  Weekday  Severity  ViolCat  \\\n",
            "0            1   SAN DIEGO       SAN DIEGO        7         1        8   \n",
            "1            2    HUMBOLDT  UNINCORPORATED        4         1        8   \n",
            "2            3     VENTURA          OXNARD        2         1       12   \n",
            "3            4  STANISLAUS  UNINCORPORATED        4         1        1   \n",
            "4            5   MENDOCINO  UNINCORPORATED        5         1        1   \n",
            "...        ...         ...             ...      ...       ...      ...   \n",
            "112655  112656      SHASTA         REDDING        1         0       11   \n",
            "112656  112657      SHASTA         REDDING        6         1       11   \n",
            "112657  112658      SHASTA         REDDING        5         0       11   \n",
            "112658  112659      SHASTA         REDDING        3         0       11   \n",
            "112659  112660      SHASTA         REDDING        5         1       11   \n",
            "\n",
            "        ClearWeather  Month  CrashType  Highway  Daylight  \n",
            "0                  0      1          0        0         1  \n",
            "1                  1      1          0        1         0  \n",
            "2                  1      2          0        0         1  \n",
            "3                  1      1          0        0         0  \n",
            "4                  1      1          0        1         0  \n",
            "...              ...    ...        ...      ...       ...  \n",
            "112655             1      3          6        0         1  \n",
            "112656             1      2          6        0         0  \n",
            "112657             1      5          6        0         1  \n",
            "112658             1      7          6        0         1  \n",
            "112659             1      8          6        1         0  \n",
            "\n",
            "[112660 rows x 11 columns]\n"
          ]
        }
      ]
    },
    {
      "cell_type": "markdown",
      "source": [
        "4. Variables de interés y definir entradas y salidas"
      ],
      "metadata": {
        "id": "j4J4Ex-rFmpW"
      }
    },
    {
      "cell_type": "code",
      "source": [
        " #Se cargan las variables de interés\n",
        "BD=BD[['City','Weekday','ViolCat','ClearWeather','Month','CrashType','Highway','Daylight']]\n",
        "\n",
        "#Separamos las variables por Entrada-Salida\n",
        "\n",
        "XD=BD[['City','Weekday','ViolCat','ClearWeather','Month','CrashType','Daylight']] #Aquí están las variables de entradas\n",
        "yd=BD[['Highway']] #Aquí está la variable de referencia\n",
        "\n",
        "print(BD)"
      ],
      "metadata": {
        "colab": {
          "base_uri": "https://localhost:8080/"
        },
        "id": "lDyJkjehJTiQ",
        "outputId": "bdbcf261-2461-4de6-c12a-da604400481f"
      },
      "execution_count": null,
      "outputs": [
        {
          "output_type": "stream",
          "name": "stdout",
          "text": [
            "                  City  Weekday  ViolCat  ClearWeather  Month  CrashType  \\\n",
            "0            SAN DIEGO        7        8             0      1          0   \n",
            "1       UNINCORPORATED        4        8             1      1          0   \n",
            "2               OXNARD        2       12             1      2          0   \n",
            "3       UNINCORPORATED        4        1             1      1          0   \n",
            "4       UNINCORPORATED        5        1             1      1          0   \n",
            "...                ...      ...      ...           ...    ...        ...   \n",
            "112655         REDDING        1       11             1      3          6   \n",
            "112656         REDDING        6       11             1      2          6   \n",
            "112657         REDDING        5       11             1      5          6   \n",
            "112658         REDDING        3       11             1      7          6   \n",
            "112659         REDDING        5       11             1      8          6   \n",
            "\n",
            "        Highway  Daylight  \n",
            "0             0         1  \n",
            "1             1         0  \n",
            "2             0         1  \n",
            "3             0         0  \n",
            "4             1         0  \n",
            "...         ...       ...  \n",
            "112655        0         1  \n",
            "112656        0         0  \n",
            "112657        0         1  \n",
            "112658        0         1  \n",
            "112659        1         0  \n",
            "\n",
            "[112660 rows x 8 columns]\n"
          ]
        }
      ]
    },
    {
      "cell_type": "markdown",
      "source": [
        "5. Selecciono solo los datos de San Francisco"
      ],
      "metadata": {
        "id": "7ATUpfjrH7Lg"
      }
    },
    {
      "cell_type": "code",
      "source": [
        "BD_SF = BD[BD['City'] == 'SAN FRANCISCO']\n",
        "print(BD_SF)\n",
        "XD=BD_SF[['Weekday','ViolCat','ClearWeather','Month','CrashType','Daylight']]\n",
        "yD=BD_SF[['Highway']]\n",
        "print(XD)\n",
        "print(yD)"
      ],
      "metadata": {
        "colab": {
          "base_uri": "https://localhost:8080/"
        },
        "id": "BEQtElpeODyA",
        "outputId": "81d23c61-45cd-43fb-f9be-da7ecbc11f6b"
      },
      "execution_count": null,
      "outputs": [
        {
          "output_type": "stream",
          "name": "stdout",
          "text": [
            "                 City  Weekday  ViolCat  ClearWeather  Month  CrashType  \\\n",
            "907     SAN FRANCISCO        7        1             1      3          0   \n",
            "1580    SAN FRANCISCO        2        9             1      2          0   \n",
            "1581    SAN FRANCISCO        7        3             1      1          0   \n",
            "1586    SAN FRANCISCO        7        3             1      3          0   \n",
            "1587    SAN FRANCISCO        3        3             1      3          0   \n",
            "...               ...      ...      ...           ...    ...        ...   \n",
            "112598  SAN FRANCISCO        5       11             1      8          6   \n",
            "112599  SAN FRANCISCO        5       11             1      3          6   \n",
            "112600  SAN FRANCISCO        6       10             0      4          6   \n",
            "112601  SAN FRANCISCO        4       10             1      4          6   \n",
            "112602  SAN FRANCISCO        5       12             1      2          6   \n",
            "\n",
            "        Highway  Daylight  \n",
            "907           1         1  \n",
            "1580          0         0  \n",
            "1581          0         0  \n",
            "1586          0         0  \n",
            "1587          0         0  \n",
            "...         ...       ...  \n",
            "112598        0         0  \n",
            "112599        0         1  \n",
            "112600        0         0  \n",
            "112601        0         0  \n",
            "112602        0         1  \n",
            "\n",
            "[2081 rows x 8 columns]\n",
            "        Weekday  ViolCat  ClearWeather  Month  CrashType  Daylight\n",
            "907           7        1             1      3          0         1\n",
            "1580          2        9             1      2          0         0\n",
            "1581          7        3             1      1          0         0\n",
            "1586          7        3             1      3          0         0\n",
            "1587          3        3             1      3          0         0\n",
            "...         ...      ...           ...    ...        ...       ...\n",
            "112598        5       11             1      8          6         0\n",
            "112599        5       11             1      3          6         1\n",
            "112600        6       10             0      4          6         0\n",
            "112601        4       10             1      4          6         0\n",
            "112602        5       12             1      2          6         1\n",
            "\n",
            "[2081 rows x 6 columns]\n",
            "        Highway\n",
            "907           1\n",
            "1580          0\n",
            "1581          0\n",
            "1586          0\n",
            "1587          0\n",
            "...         ...\n",
            "112598        0\n",
            "112599        0\n",
            "112600        0\n",
            "112601        0\n",
            "112602        0\n",
            "\n",
            "[2081 rows x 1 columns]\n"
          ]
        }
      ]
    },
    {
      "cell_type": "markdown",
      "source": [
        "6. Implementamos modelo"
      ],
      "metadata": {
        "id": "iS7NZ3ZxOEHX"
      }
    },
    {
      "cell_type": "code",
      "source": [
        "from sklearn.naive_bayes import GaussianNB\n",
        "total_filas = BD_SF.shape[0]\n",
        "print(f\"Total de datos (filas): {total_filas}\")\n",
        "\n",
        "mnb=GaussianNB()\n",
        "mnb.fit(XD,yD)\n",
        "\n",
        "#Se obtiene la información del modelo\n",
        "ct=mnb.class_count_\n",
        "print(\"Como estan separados los datos\",ct)\n",
        "print(\"El total de los datos es\",len(XD))\n",
        "print(\"Los datos porcentualmente estan divididos:\", ct/len(XD))\n",
        "\n",
        "#Se obtiene la información de los ingresos por categoría\n",
        "u=mnb.theta_\n",
        "print(\"la media de los ingresos por categoria es:\\n\",u)\n",
        "std=mnb.var_ #Esto es Varianza\n",
        "std=np.sqrt(std) #Esto es desviación Estándar\n",
        "print(\"la desviacion desviación estandar de los ingresos por categoría es\\n:\",std)\n",
        "\n",
        "#Se identifican los valores superiores e inferiores de los ingresos\n",
        "print(\"El limite superior de los valores:\\n\",u+std)\n",
        "print(\"El limite inferior de los valores:\\n\",u-std)\n",
        "\n",
        "#Para evaluar el accidente\n",
        "XS=[[5,1,1,3,4,0]]\n",
        "mnb.predict(XS)\n",
        "\n",
        "print(\"La persona con estas características tuvo o no va a tener este accidente:\\n\",mnb.predict(XS))"
      ],
      "metadata": {
        "colab": {
          "base_uri": "https://localhost:8080/"
        },
        "id": "yERQ-GLzQmto",
        "outputId": "81bc9d93-8df6-4df3-c93a-fb7da9d6c975"
      },
      "execution_count": null,
      "outputs": [
        {
          "output_type": "stream",
          "name": "stdout",
          "text": [
            "Total de datos (filas): 2081\n",
            "Como estan separados los datos [1580.  501.]\n",
            "El total de los datos es 2081\n",
            "Los datos porcentualmente estan divididos: [0.75925036 0.24074964]\n",
            "la media de los ingresos por categoria es:\n",
            " [[3.88417722 7.45696203 0.86265823 4.35189873 3.21772152 0.66265823]\n",
            " [3.9261477  4.1497006  0.79840319 6.69461078 2.27744511 0.62075848]]\n",
            "la desviacion desviación estandar de los ingresos por categoría es\n",
            ": [[1.95062542 3.52136997 0.34420782 2.3433645  1.87371962 0.47280262]\n",
            " [2.01603723 2.16198902 0.40119266 3.44163641 1.05765448 0.48519831]]\n",
            "El limite superior de los valores:\n",
            " [[ 5.83480263 10.978332    1.20686605  6.69526323  5.09144114  1.13546084]\n",
            " [ 5.94218494  6.31168962  1.19959585 10.13624719  3.33509959  1.10595679]]\n",
            "El limite inferior de los valores:\n",
            " [[1.9335518  3.93559205 0.51845041 2.00853424 1.3440019  0.18985561]\n",
            " [1.91011047 1.98771158 0.39721054 3.25297437 1.21979063 0.13556017]]\n",
            "La persona con estas características tuvo o no va a tener este accidente:\n",
            " [0]\n"
          ]
        },
        {
          "output_type": "stream",
          "name": "stderr",
          "text": [
            "/usr/local/lib/python3.11/dist-packages/sklearn/utils/validation.py:1408: DataConversionWarning: A column-vector y was passed when a 1d array was expected. Please change the shape of y to (n_samples, ), for example using ravel().\n",
            "  y = column_or_1d(y, warn=True)\n",
            "/usr/local/lib/python3.11/dist-packages/sklearn/utils/validation.py:2739: UserWarning: X does not have valid feature names, but GaussianNB was fitted with feature names\n",
            "  warnings.warn(\n",
            "/usr/local/lib/python3.11/dist-packages/sklearn/utils/validation.py:2739: UserWarning: X does not have valid feature names, but GaussianNB was fitted with feature names\n",
            "  warnings.warn(\n"
          ]
        }
      ]
    },
    {
      "cell_type": "markdown",
      "source": [
        "7. Matriz de confusión"
      ],
      "metadata": {
        "id": "S4EGKailaDCY"
      }
    },
    {
      "cell_type": "code",
      "source": [
        "from time import perf_counter_ns\n",
        "#La matriz de confusión tiene 2 cosas: los datos observados = 0 y 1\n",
        "#El pronóstico del modelo va a ser = 0 y 1\n",
        "\n",
        "ydp=mnb.predict(XD) #Hazme el pronóstico de los positivos y negativos\n",
        "\n",
        "from sklearn.metrics import confusion_matrix\n",
        "cm=confusion_matrix(yD,ydp)\n",
        "print(cm)\n",
        "\n",
        "VN=cm[0,0];FP=cm[0,1];FN=cm[1,0];VP=cm[1,1]\n",
        "\n",
        "Ex=(VN+VP)/(VN+VP+FN+FP)\n",
        "print(\"La exactitud es:\", Ex)\n",
        "\n",
        "\n",
        "TE=(FN+FP)/(VN+VP+FN+FP)\n",
        "print(\"La tasa de error es:\", TE)\n",
        "\n",
        "Sen=VP/(VP+FN)\n",
        "print(\"La sensibilidad es:\", Sen)\n",
        "\n",
        "Esp=VN/(VN+FP)\n",
        "print(\"La especificidad es:\",Esp)\n",
        "\n",
        "pre=(VP)/(VP+FP)\n",
        "print(\"La precisión es:\",pre)\n",
        "\n",
        "pren=(VN)/(VN+FN)\n",
        "print(\"La presición negativa es:\",pren)"
      ],
      "metadata": {
        "id": "evo-STxkK2cu",
        "colab": {
          "base_uri": "https://localhost:8080/"
        },
        "outputId": "e06e914c-074c-4c3d-c96d-ab75a1b851c6"
      },
      "execution_count": null,
      "outputs": [
        {
          "output_type": "stream",
          "name": "stdout",
          "text": [
            "[[1365  215]\n",
            " [ 224  277]]\n",
            "La exactitud es: 0.7890437289764536\n",
            "La tasa de error es: 0.21095627102354636\n",
            "La sensibilidad es: 0.5528942115768463\n",
            "La especificidad es: 0.8639240506329114\n",
            "La precisión es: 0.5630081300813008\n",
            "La presición negativa es: 0.8590308370044053\n"
          ]
        }
      ]
    }
  ]
}